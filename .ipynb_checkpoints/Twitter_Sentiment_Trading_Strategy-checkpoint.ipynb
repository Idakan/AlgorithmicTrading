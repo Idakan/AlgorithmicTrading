{
 "cells": [
  {
   "cell_type": "code",
   "execution_count": null,
   "id": "9ca26598",
   "metadata": {},
   "outputs": [],
   "source": [
    "# Packages\n",
    "import yfinance as yf\n",
    "import pandas as pd\n",
    "import numpy as np\n",
    "import matplotlib.pyplot as plt\n",
    "import plotly.express as px\n",
    "import seaborn as sns\n",
    "import random\n",
    "import statsmodels.api as sm\n",
    "from statsmodels.regression.rolling import RollingOLS\n",
    "import pandas_datareader.data as web\n",
    "import warnings\n",
    "import datetime as dt\n",
    "import pandas_ta\n",
    "import zipfile\n",
    "warnings.filterwarnings('ignore')"
   ]
  },
  {
   "cell_type": "markdown",
   "id": "d7601920",
   "metadata": {},
   "source": [
    "## Load in Twitter Sentiment Data"
   ]
  },
  {
   "cell_type": "code",
   "execution_count": null,
   "id": "a2cdc4b7",
   "metadata": {},
   "outputs": [],
   "source": [
    "sentiment_df = pd.read_csv('sentiment_data.csv')"
   ]
  },
  {
   "cell_type": "code",
   "execution_count": null,
   "id": "70a23692",
   "metadata": {},
   "outputs": [],
   "source": [
    "sentiment_df"
   ]
  },
  {
   "cell_type": "code",
   "execution_count": null,
   "id": "fdbeb82d",
   "metadata": {},
   "outputs": [],
   "source": [
    "sentiment_df['date'] = pd.to_datetime(sentiment_df['date'])\n",
    "sentiment_df = sentiment_df.set_index(['date','symbol'])\n",
    "sentiment_df['engagement_ratio'] = sentiment_df['twitterComments'] / sentiment_df['twitterLikes']"
   ]
  },
  {
   "cell_type": "code",
   "execution_count": null,
   "id": "9080974a",
   "metadata": {},
   "outputs": [],
   "source": [
    "sentiment_df = sentiment_df[(sentiment_df['twitterLikes'] > 20)&(sentiment_df['twitterComments']>10)]"
   ]
  },
  {
   "cell_type": "code",
   "execution_count": null,
   "id": "4b97852f",
   "metadata": {},
   "outputs": [],
   "source": [
    "key_metric = \"engagement_ratio\"\n",
    "\n",
    "aggregate_df = sentiment_df.reset_index('symbol').groupby([pd.Grouper(freq = 'M'), 'symbol'])[[key_metric]].mean()\n",
    "aggregate_df['rank'] = aggregate_df.groupby(level = 0)[key_metric].transform(lambda x: x.rank(ascending=False))"
   ]
  },
  {
   "cell_type": "code",
   "execution_count": null,
   "id": "b2100c02",
   "metadata": {},
   "outputs": [],
   "source": [
    "aggregate_df"
   ]
  },
  {
   "cell_type": "markdown",
   "id": "96dd43aa",
   "metadata": {},
   "source": [
    "### Top 5 Stocks by Engagement for each month"
   ]
  },
  {
   "cell_type": "code",
   "execution_count": null,
   "id": "248380c7",
   "metadata": {},
   "outputs": [],
   "source": [
    "top5_df = aggregate_df[aggregate_df['rank'] <= 5]\n",
    "top5_df = top5_df.reset_index(level = 1)"
   ]
  },
  {
   "cell_type": "code",
   "execution_count": null,
   "id": "0b072e1c",
   "metadata": {},
   "outputs": [],
   "source": [
    "top5_df.index = top5_df.index + pd.DateOffset(1)\n",
    "top5_df = top5_df.reset_index().set_index(['date','symbol'])"
   ]
  },
  {
   "cell_type": "markdown",
   "id": "06514b3d",
   "metadata": {},
   "source": [
    "### Extract Stocks to create Portfolio"
   ]
  },
  {
   "cell_type": "code",
   "execution_count": null,
   "id": "6b5d393b",
   "metadata": {},
   "outputs": [],
   "source": [
    "dates = top5_df.index.get_level_values('date').unique().tolist()\n",
    "date_dict = {}\n",
    "\n",
    "for date in dates:\n",
    "    date_dict[date.strftime('%Y-%m-%d')] = top5_df.xs(date,level=0).index.tolist()\n",
    "    \n",
    "date_dict"
   ]
  },
  {
   "cell_type": "code",
   "execution_count": null,
   "id": "c8943fed",
   "metadata": {},
   "outputs": [],
   "source": [
    "stocks = top5_df.index.get_level_values('symbol').unique().tolist()\n",
    "start_date = \"2016-01-01\"\n",
    "end_date = \"2024-03-01\"\n",
    "prices_df = yf.download(stocks, start = start_date, end = end_date)"
   ]
  },
  {
   "cell_type": "code",
   "execution_count": null,
   "id": "dd7506ed",
   "metadata": {},
   "outputs": [],
   "source": [
    "returns_df = np.log(prices_df['Adj Close']).diff().dropna()"
   ]
  },
  {
   "cell_type": "code",
   "execution_count": null,
   "id": "f7bc1610",
   "metadata": {},
   "outputs": [],
   "source": [
    "returns_df"
   ]
  },
  {
   "cell_type": "code",
   "execution_count": null,
   "id": "e50a0dfa",
   "metadata": {},
   "outputs": [],
   "source": [
    "portfolio_df = pd.DataFrame()\n",
    "\n",
    "for start_date in date_dict.keys():\n",
    "    end_date = (pd.to_datetime(start_date) + pd.offsets.MonthEnd(0)).strftime('%Y-%m-%d')\n",
    "    companies = date_dict[start_date]\n",
    "    optimize_df = returns_df[start_date:end_date][companies].mean(axis=1).to_frame('portfolio-return')\n",
    "    portfolio_df = pd.concat([portfolio_df, optimize_df],axis=0)\n",
    "portfolio_df"
   ]
  },
  {
   "cell_type": "markdown",
   "id": "edfad442",
   "metadata": {},
   "source": [
    "### Compare to QQQ"
   ]
  },
  {
   "cell_type": "code",
   "execution_count": null,
   "id": "fc092e73",
   "metadata": {},
   "outputs": [],
   "source": [
    "qqq_df = yf.download('QQQ', start = '2016-01-01', end = dt.date.today())\n",
    "qqq_returns_df = np.log(qqq_df[['Adj Close']]).diff().dropna().rename({'Adj Close':'QQQ Buy&Hold'}, axis=1)\n",
    "comp_df = portfolio_df.merge(qqq_returns_df,left_index = True, right_index=True)"
   ]
  },
  {
   "cell_type": "code",
   "execution_count": null,
   "id": "c5a6af7c",
   "metadata": {},
   "outputs": [],
   "source": [
    "comp_df"
   ]
  },
  {
   "cell_type": "code",
   "execution_count": null,
   "id": "bfc60256",
   "metadata": {},
   "outputs": [],
   "source": [
    "cum_returns_df = np.exp(np.log1p(comp_df).cumsum()) - 1\n",
    "\n",
    "sns.lineplot(cum_returns_df[:'2024-01-01'])\n",
    "plt.xticks(rotation=45)"
   ]
  },
  {
   "cell_type": "code",
   "execution_count": null,
   "id": "0036ccce",
   "metadata": {},
   "outputs": [],
   "source": []
  },
  {
   "cell_type": "code",
   "execution_count": null,
   "id": "a88b428f",
   "metadata": {},
   "outputs": [],
   "source": []
  }
 ],
 "metadata": {
  "kernelspec": {
   "display_name": "Python 3 (ipykernel)",
   "language": "python",
   "name": "python3"
  },
  "language_info": {
   "codemirror_mode": {
    "name": "ipython",
    "version": 3
   },
   "file_extension": ".py",
   "mimetype": "text/x-python",
   "name": "python",
   "nbconvert_exporter": "python",
   "pygments_lexer": "ipython3",
   "version": "3.9.7"
  }
 },
 "nbformat": 4,
 "nbformat_minor": 5
}
