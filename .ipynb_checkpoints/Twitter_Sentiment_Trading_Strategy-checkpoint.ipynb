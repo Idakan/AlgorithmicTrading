{
 "cells": [
  {
   "cell_type": "code",
   "execution_count": null,
   "id": "ed0f8dbf",
   "metadata": {},
   "outputs": [],
   "source": [
    "# Packages\n",
    "import yfinance as yf\n",
    "import pandas as pd\n",
    "import numpy as np\n",
    "import matplotlib.pyplot as plt\n",
    "import plotly.express as px\n",
    "import seaborn as sns\n",
    "import random\n",
    "import statsmodels.api as sm\n",
    "from statsmodels.regression.rolling import RollingOLS\n",
    "import pandas_datareader.data as web\n",
    "import warnings\n",
    "import datetime as dt\n",
    "import pandas_ta\n",
    "import zipfile\n",
    "warnings.filterwarnings('ignore')"
   ]
  },
  {
   "cell_type": "markdown",
   "id": "f31e15c1",
   "metadata": {},
   "source": [
    "## Load in Twitter Sentiment Data"
   ]
  },
  {
   "cell_type": "code",
   "execution_count": null,
   "id": "8b1d7c31",
   "metadata": {},
   "outputs": [],
   "source": [
    "sentiment_df = pd.read_csv('sentiment_data.csv')"
   ]
  },
  {
   "cell_type": "code",
   "execution_count": null,
   "id": "42a3018f",
   "metadata": {},
   "outputs": [],
   "source": [
    "sentiment_df"
   ]
  },
  {
   "cell_type": "code",
   "execution_count": null,
   "id": "e3fc43fe",
   "metadata": {},
   "outputs": [],
   "source": [
    "sentiment_df['date'] = pd.to_datetime(sentiment_df['date'])\n",
    "sentiment_df = sentiment_df.set_index(['date','symbol'])\n",
    "sentiment_df['engagement_ratio'] = sentiment_df['twitterComments'] / sentiment_df['twitterLikes']"
   ]
  },
  {
   "cell_type": "code",
   "execution_count": null,
   "id": "6fd6eb5c",
   "metadata": {},
   "outputs": [],
   "source": [
    "sentiment_df = sentiment_df[(sentiment_df['twitterLikes'] > 20)&(sentiment_df['twitterComments']>10)]"
   ]
  },
  {
   "cell_type": "code",
   "execution_count": null,
   "id": "a3968cd2",
   "metadata": {},
   "outputs": [],
   "source": [
    "key_metric = \"engagement_ratio\"\n",
    "\n",
    "aggregate_df = sentiment_df.reset_index('symbol').groupby([pd.Grouper(freq = 'M'), 'symbol'])[[key_metric]].mean()\n",
    "aggregate_df['rank'] = aggregate_df.groupby(level = 0)[key_metric].transform(lambda x: x.rank(ascending=False))"
   ]
  },
  {
   "cell_type": "code",
   "execution_count": null,
   "id": "0b14ab74",
   "metadata": {},
   "outputs": [],
   "source": [
    "aggregate_df"
   ]
  },
  {
   "cell_type": "markdown",
   "id": "0ecb37ac",
   "metadata": {},
   "source": [
    "### Top 5 Stocks by Engagement for each month"
   ]
  },
  {
   "cell_type": "code",
   "execution_count": null,
   "id": "b134bcac",
   "metadata": {},
   "outputs": [],
   "source": [
    "top5_df = aggregate_df[aggregate_df['rank'] <= 5]\n",
    "top5_df = top5_df.reset_index(level = 1)"
   ]
  },
  {
   "cell_type": "code",
   "execution_count": null,
   "id": "6983c98c",
   "metadata": {},
   "outputs": [],
   "source": [
    "top5_df.index = top5_df.index + pd.DateOffset(1)\n",
    "top5_df = top5_df.reset_index().set_index(['date','symbol'])"
   ]
  },
  {
   "cell_type": "markdown",
   "id": "3513af49",
   "metadata": {},
   "source": [
    "### Extract Stocks to create Portfolio"
   ]
  },
  {
   "cell_type": "code",
   "execution_count": null,
   "id": "19f547a0",
   "metadata": {},
   "outputs": [],
   "source": [
    "dates = top5_df.index.get_level_values('date').unique().tolist()\n",
    "date_dict = {}\n",
    "\n",
    "for date in dates:\n",
    "    date_dict[date.strftime('%Y-%m-%d')] = top5_df.xs(date,level=0).index.tolist()\n",
    "    \n",
    "date_dict"
   ]
  },
  {
   "cell_type": "code",
   "execution_count": null,
   "id": "d3ab90b3",
   "metadata": {},
   "outputs": [],
   "source": [
    "stocks = top5_df.index.get_level_values('symbol').unique().tolist()\n",
    "start_date = \"2016-01-01\"\n",
    "end_date = \"2024-03-01\"\n",
    "prices_df = yf.download(stocks, start = start_date, end = end_date)"
   ]
  },
  {
   "cell_type": "code",
   "execution_count": null,
   "id": "31b5aad2",
   "metadata": {},
   "outputs": [],
   "source": [
    "returns_df = np.log(prices_df['Adj Close']).diff().dropna()"
   ]
  },
  {
   "cell_type": "code",
   "execution_count": null,
   "id": "f4e3c8e6",
   "metadata": {},
   "outputs": [],
   "source": [
    "returns_df"
   ]
  },
  {
   "cell_type": "code",
   "execution_count": null,
   "id": "10f0b287",
   "metadata": {},
   "outputs": [],
   "source": [
    "portfolio_df = pd.DataFrame()\n",
    "\n",
    "for start_date in date_dict.keys():\n",
    "    end_date = (pd.to_datetime(start_date) + pd.offsets.MonthEnd(0)).strftime('%Y-%m-%d')\n",
    "    companies = date_dict[start_date]\n",
    "    optimize_df = returns_df[start_date:end_date][companies].mean(axis=1).to_frame('portfolio-return')\n",
    "    portfolio_df = pd.concat([portfolio_df, optimize_df],axis=0)\n",
    "portfolio_df"
   ]
  },
  {
   "cell_type": "markdown",
   "id": "6a41687d",
   "metadata": {},
   "source": [
    "### Compare to QQQ"
   ]
  },
  {
   "cell_type": "code",
   "execution_count": null,
   "id": "c5f97d5d",
   "metadata": {},
   "outputs": [],
   "source": [
    "qqq_df = yf.download('QQQ', start = '2016-01-01', end = dt.date.today())\n",
    "qqq_returns_df = np.log(qqq_df[['Adj Close']]).diff().dropna().rename({'Adj Close':'QQQ Buy&Hold'}, axis=1)\n",
    "comp_df = portfolio_df.merge(qqq_returns_df,left_index = True, right_index=True)"
   ]
  },
  {
   "cell_type": "code",
   "execution_count": null,
   "id": "f19a28b5",
   "metadata": {},
   "outputs": [],
   "source": [
    "comp_df"
   ]
  },
  {
   "cell_type": "code",
   "execution_count": null,
   "id": "5ce75d80",
   "metadata": {},
   "outputs": [],
   "source": [
    "cum_returns_df = np.exp(np.log1p(comp_df).cumsum()) - 1\n",
    "\n",
    "sns.lineplot(cum_returns_df[:'2024-01-01'])\n",
    "plt.xticks(rotation=45)"
   ]
  },
  {
   "cell_type": "code",
   "execution_count": null,
   "id": "37131a6c",
   "metadata": {},
   "outputs": [],
   "source": []
  },
  {
   "cell_type": "code",
   "execution_count": null,
   "id": "02552354",
   "metadata": {},
   "outputs": [],
   "source": []
  }
 ],
 "metadata": {
  "kernelspec": {
   "display_name": "Python 3 (ipykernel)",
   "language": "python",
   "name": "python3"
  },
  "language_info": {
   "codemirror_mode": {
    "name": "ipython",
    "version": 3
   },
   "file_extension": ".py",
   "mimetype": "text/x-python",
   "name": "python",
   "nbconvert_exporter": "python",
   "pygments_lexer": "ipython3",
   "version": "3.9.7"
  }
 },
 "nbformat": 4,
 "nbformat_minor": 5
}
