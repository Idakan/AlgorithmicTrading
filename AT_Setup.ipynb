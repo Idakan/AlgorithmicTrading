{
 "cells": [
  {
   "cell_type": "code",
   "execution_count": 1,
   "id": "03ba9b43",
   "metadata": {},
   "outputs": [
    {
     "name": "stderr",
     "output_type": "stream",
     "text": [
      "C:\\Users\\ynakadi\\Anaconda3\\lib\\site-packages\\yfinance\\base.py:48: FutureWarning: The default dtype for empty Series will be 'object' instead of 'float64' in a future version. Specify a dtype explicitly to silence this warning.\n",
      "  _empty_series = pd.Series()\n"
     ]
    }
   ],
   "source": [
    "import pandas as pd\n",
    "import zipfile\n",
    "import numpy as np\n",
    "import yfinance as yf\n",
    "import random"
   ]
  },
  {
   "cell_type": "markdown",
   "id": "ce22a1f3",
   "metadata": {},
   "source": [
    "## Create Stocks Dataframe"
   ]
  },
  {
   "cell_type": "code",
   "execution_count": 2,
   "id": "597127bc",
   "metadata": {},
   "outputs": [],
   "source": [
    "def create_stocks_df(start_date, end_date, num_stocks):\n",
    "    !!kaggle datasets download -d andrewmvd/sp-500-stocks --force\n",
    "    \n",
    "    file = 'sp-500-stocks.zip'\n",
    "\n",
    "    print('Unzipping:',file)\n",
    "    with zipfile.ZipFile(file, 'r') as zip_ref:\n",
    "        zip_ref.extractall()\n",
    "    sp500_df = pd.read_csv('sp500_companies.csv')\n",
    "    stocks_list = list(set(sp500_df['Symbol'])) \n",
    "    stocks_df = pd.DataFrame()\n",
    "    random.shuffle(stocks_list)\n",
    "    for stock in stocks_list[:num_stocks]:\n",
    "        df = yf.download(stock, start = start_date, end = end_date)\n",
    "        df['company'] = stock\n",
    "        stocks_df = pd.concat([stocks_df,df])\n",
    "    return sp500_df, stocks_df\n",
    "    "
   ]
  },
  {
   "cell_type": "markdown",
   "id": "4fc3de25",
   "metadata": {},
   "source": [
    "### Russell 3000 Data"
   ]
  },
  {
   "cell_type": "code",
   "execution_count": 3,
   "id": "4b0e04dd",
   "metadata": {},
   "outputs": [],
   "source": [
    "#!!kaggle datasets download -d williecosta/russell-3000-stock-history\n",
    "\n",
    "# file = 'russell-3000-stock-history.zip'\n",
    "# print('Unzipping:',file)\n",
    "\n",
    "# with zipfile.ZipFile(file, 'r') as zip_ref:\n",
    "#     zip_ref.extractall()"
   ]
  },
  {
   "cell_type": "markdown",
   "id": "dddbffc2",
   "metadata": {},
   "source": [
    "## Simple Moving Average Backtester Function"
   ]
  },
  {
   "cell_type": "code",
   "execution_count": 4,
   "id": "ee2e40e1",
   "metadata": {},
   "outputs": [],
   "source": [
    "def test_strategy(stocks_df, stock, SMA):\n",
    "    df = stocks_df[stocks_df['company'] == stock]\n",
    "    RTX_df= df.Close.to_frame()\n",
    "    RTX_df['SMA_S'] = RTX_df[['Close']].rolling(window=int(SMA[0])).mean()\n",
    "    RTX_df['SMA_L'] = RTX_df[['Close']].rolling(window=int(SMA[1])).mean()\n",
    "    RTX_df['returnsb&h'] = np.log(RTX_df[['Close']].div(RTX_df[['Close']].shift(1)))\n",
    "    RTX_df.dropna(inplace=True)\n",
    "    # Short bias\n",
    "    RTX_df['position_short'] = np.where(RTX_df['SMA_S'] < RTX_df['SMA_L'],1,-1)\n",
    "\n",
    "    # Long bias\n",
    "    RTX_df['position_long'] = np.where(RTX_df['SMA_S'] > RTX_df['SMA_L'],1,-1)\n",
    "    \n",
    "    RTX_df['strategy_long'] = RTX_df['returnsb&h'] * RTX_df['position_long'].shift(1)\n",
    "    RTX_df['strategy_short'] = RTX_df['returnsb&h'] * RTX_df['position_short'].shift(1)\n",
    "    \n",
    "    long_returns = np.exp(RTX_df['strategy_long'].sum())\n",
    "    long_std = RTX_df['strategy_long'].std() * np.sqrt(252)\n",
    "    \n",
    "    short_returns = np.exp(RTX_df['strategy_short'].sum())\n",
    "    short_std = RTX_df['strategy_short'].std() * np.sqrt(252)\n",
    "    \n",
    "    return (long_returns, long_std), (short_returns,short_std)"
   ]
  },
  {
   "cell_type": "markdown",
   "id": "22303285",
   "metadata": {},
   "source": [
    "## SMA Backtester Class"
   ]
  },
  {
   "cell_type": "code",
   "execution_count": 5,
   "id": "f44ae127",
   "metadata": {},
   "outputs": [],
   "source": [
    "class SMA_Backtester():\n",
    "    def __init__(self, stocks_df, stock, SMA_S, SMA_L):\n",
    "        self.stock = stock\n",
    "        self.stocks_df = stocks_df\n",
    "        self.SMA_S = SMA_S\n",
    "        self.SMA_L = SMA_L\n",
    "        self.results = None\n",
    "        self.get_data()\n",
    "        \n",
    "    def get_data(self):\n",
    "        df = self.stocks_df[self.stocks_df['company'] == self.stock]\n",
    "        RTX_df= df.Close.to_frame()\n",
    "        RTX_df['SMA_S'] = RTX_df[['Close']].rolling(window=int(self.SMA_S)).mean()\n",
    "        RTX_df['SMA_L'] = RTX_df[['Close']].rolling(window=int(self.SMA_L)).mean()\n",
    "        RTX_df['returns'] = np.log(RTX_df[['Close']].div(RTX_df[['Close']].shift(1)))\n",
    "        RTX_df.dropna(inplace=True)\n",
    "        self.data2 = RTX_df\n",
    "        return RTX_df\n",
    "    \n",
    "    def test_results(self):\n",
    "        # Short bias\n",
    "        data = self.data2.copy().dropna()\n",
    "        data['position_short'] = np.where(data['SMA_S'] < data['SMA_L'],1,-1)\n",
    "\n",
    "        # Long bias\n",
    "        data['position_long'] = np.where(data['SMA_S'] > data['SMA_L'],1,-1)\n",
    "\n",
    "        data['strategy_long'] = data['returns'] * data['position_long'].shift(1)\n",
    "        data['strategy_short'] = data['returns'] * data['position_short'].shift(1)\n",
    "        \n",
    "        data['returnsbh'] = data['returns'].cumsum().apply(np.exp)\n",
    "        data['return_strategy_long'] = data['strategy_long'].cumsum().apply(np.exp)\n",
    "        data['return_strategy_short'] = data['strategy_short'].cumsum().apply(np.exp)\n",
    "        \n",
    "        short_perf = data['return_strategy_short'].iloc[-1]\n",
    "        long_perf = data['return_strategy_long'].iloc[-1]\n",
    "        \n",
    "        short_outperf = short_perf - data['returnsbh'].iloc[-1]\n",
    "        long_outperf = long_perf - data['returnsbh'].iloc[-1]\n",
    "        self.results = data\n",
    "        \n",
    "        #         long_returns = np.exp(data['strategy_long'].sum())\n",
    "        #         long_std = data['strategy_long'].std() * np.sqrt(252)\n",
    "\n",
    "        #         short_returns = np.exp(data['strategy_short'].sum())\n",
    "        #         short_std = data['strategy_short'].std() * np.sqrt(252)\n",
    "        return (round(short_perf,4),round(short_outperf,4)), (round(long_perf,4),round(long_outperf,4))\n",
    "    \n",
    "    def plot_results(self):\n",
    "        if self.results is None:\n",
    "            print(\"Run the Test\")\n",
    "        else:\n",
    "            title = \"{}| SMA_S={} | SMA_L={}\".format(self.stock, self.SMA_S, self.SMA_L)\n",
    "            self.results[['returnsbh','return_strategy_short','return_strategy_long']].plot(title = title, figsize = (10,8))"
   ]
  },
  {
   "cell_type": "code",
   "execution_count": null,
   "id": "1e210cba",
   "metadata": {},
   "outputs": [],
   "source": []
  }
 ],
 "metadata": {
  "kernelspec": {
   "display_name": "Python 3 (ipykernel)",
   "language": "python",
   "name": "python3"
  },
  "language_info": {
   "codemirror_mode": {
    "name": "ipython",
    "version": 3
   },
   "file_extension": ".py",
   "mimetype": "text/x-python",
   "name": "python",
   "nbconvert_exporter": "python",
   "pygments_lexer": "ipython3",
   "version": "3.9.7"
  }
 },
 "nbformat": 4,
 "nbformat_minor": 5
}
